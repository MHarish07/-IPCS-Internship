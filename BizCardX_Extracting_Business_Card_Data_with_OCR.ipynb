{
  "nbformat": 4,
  "nbformat_minor": 0,
  "metadata": {
    "colab": {
      "provenance": []
    },
    "kernelspec": {
      "name": "python3",
      "display_name": "Python 3"
    },
    "language_info": {
      "name": "python"
    }
  },
  "cells": [
    {
      "cell_type": "code",
      "execution_count": null,
      "metadata": {
        "id": "5BvFTAx6rnzL"
      },
      "outputs": [],
      "source": [
        "!pip install streamlit -q\n",
        "!pip install pyngrok -q"
      ]
    },
    {
      "cell_type": "code",
      "source": [
        "!pip install easyocr"
      ],
      "metadata": {
        "id": "mDxERPz76UcD"
      },
      "execution_count": null,
      "outputs": []
    },
    {
      "cell_type": "code",
      "source": [
        "!pip install streamlit-option-menu"
      ],
      "metadata": {
        "id": "FD-S34pU6qYq"
      },
      "execution_count": null,
      "outputs": []
    },
    {
      "cell_type": "code",
      "source": [
        "%%writefile app.py\n",
        "import streamlit as st\n",
        "from streamlit_option_menu import option_menu\n",
        "import easyocr\n",
        "from PIL import Image\n",
        "import pandas as pd\n",
        "import numpy as np\n",
        "import re\n",
        "import io\n",
        "import sqlite3\n",
        "import os\n",
        "\n",
        "def image_to_text(path):\n",
        "\n",
        "  input_img = Image.open(path)\n",
        "\n",
        "  # converting image to array format\n",
        "  image_arr = np.array(input_img)\n",
        "\n",
        "  reader = easyocr.Reader(['en'])\n",
        "  text = reader.readtext(image_arr, detail=0)\n",
        "\n",
        "  return text, input_img\n",
        "\n",
        "def extracted_text(texts):\n",
        "    extrd_dict = {\"NAME\": [], \"DESIGNATION\": [], \"COMPANY_NAME\": [], \"CONTACT\": [], \"EMAIL\": [], \"WEBSITE\": [],\n",
        "                  \"ADDRESS\": [], \"PINCODE\": []}\n",
        "\n",
        "    # Assign name and designation from the first two elements\n",
        "    extrd_dict[\"NAME\"].append(texts[0])\n",
        "    extrd_dict[\"DESIGNATION\"].append(texts[1])\n",
        "\n",
        "    for i in range(2, len(texts)):\n",
        "        # Check for contact number\n",
        "        if texts[i].startswith(\"+\") or (texts[i].replace(\"-\", \"\").isdigit() and \"-\" in texts[i]):\n",
        "            extrd_dict[\"CONTACT\"].append(texts[i])\n",
        "\n",
        "        # Check for email\n",
        "        elif \"@\" in texts[i] and \".com\" in texts[i]:\n",
        "            extrd_dict[\"EMAIL\"].append(texts[i])\n",
        "\n",
        "        # Check for website\n",
        "        elif \"www\" in texts[i].lower():\n",
        "            small = texts[i].lower()\n",
        "            extrd_dict[\"WEBSITE\"].append(small)\n",
        "\n",
        "        # Check for pincode (6 digits only)\n",
        "        elif texts[i].isdigit() and len(texts[i]) == 6:\n",
        "            extrd_dict[\"PINCODE\"].append(texts[i])\n",
        "\n",
        "        # Check for address patterns (e.g., includes \"Street\", \"Road\", \"Tamil Nadu\")\n",
        "        elif any(keyword in texts[i].lower() for keyword in [\"street\", \"road\", \"tamil nadu\", \"tamilnadu\", \"avenue\", \"lane\"]):\n",
        "            extrd_dict[\"ADDRESS\"].append(texts[i])\n",
        "\n",
        "        # Treat as company name if nothing else matches\n",
        "        else:\n",
        "            extrd_dict[\"COMPANY_NAME\"].append(texts[i])\n",
        "\n",
        "    # Concatenate extracted values and set defaults if empty\n",
        "    for key, value in extrd_dict.items():\n",
        "        if len(value) > 0:\n",
        "            concatenated = \" \".join(value)\n",
        "            extrd_dict[key] = [concatenated]\n",
        "        else:\n",
        "            extrd_dict[key] = [\"NA\"]\n",
        "\n",
        "    return extrd_dict\n",
        "\n",
        "\n",
        "# Ensure database path for Colab\n",
        "def init_db():\n",
        "    db_path = '/content/bizcardx.db'\n",
        "    if not os.path.exists(db_path):\n",
        "        conn = sqlite3.connect(db_path)\n",
        "        cursor = conn.cursor()\n",
        "        create_table_query = '''CREATE TABLE IF NOT EXISTS bizcard_details(\n",
        "                                name TEXT,\n",
        "                                designation TEXT,\n",
        "                                company_name TEXT,\n",
        "                                contact TEXT,\n",
        "                                email TEXT,\n",
        "                                website TEXT,\n",
        "                                address TEXT,\n",
        "                                pincode TEXT,\n",
        "                                image BLOB)'''\n",
        "        cursor.execute(create_table_query)\n",
        "        conn.commit()\n",
        "        conn.close()\n",
        "    return db_path\n",
        "\n",
        "def insert_data(db_path, data):\n",
        "    conn = sqlite3.connect(db_path)\n",
        "    cursor = conn.cursor()\n",
        "    insert_query = '''INSERT INTO bizcard_details(name, designation, company_name, contact, email, website, address,\n",
        "                                                 pincode, image) VALUES (?, ?, ?, ?, ?, ?, ?, ?, ?)'''\n",
        "    cursor.execute(insert_query, data)\n",
        "    conn.commit()\n",
        "    conn.close()\n",
        "\n",
        "def fetch_data(db_path):\n",
        "    conn = sqlite3.connect(db_path)\n",
        "    cursor = conn.cursor()\n",
        "    select_query = \"SELECT * FROM bizcard_details\"\n",
        "    cursor.execute(select_query)\n",
        "    rows = cursor.fetchall()\n",
        "    conn.close()\n",
        "    return rows\n",
        "\n",
        "def delete_data(db_path, name, designation):\n",
        "    conn = sqlite3.connect(db_path)\n",
        "    cursor = conn.cursor()\n",
        "    delete_query = f\"DELETE FROM bizcard_details WHERE name = ? AND designation = ?\"\n",
        "    cursor.execute(delete_query, (name, designation))\n",
        "    conn.commit()\n",
        "    conn.close()\n",
        "\n",
        "# Streamlit part\n",
        "st.set_page_config(layout=\"wide\")\n",
        "st.title(\"EXTRACTING BUSINESS CARD DATA WITH 'OCR'\")\n",
        "\n",
        "with st.sidebar:\n",
        "\n",
        "  select = option_menu(\"Main Menu\", [\"Home\", \"Upload & Modifying\", \"Delete\"])\n",
        "\n",
        "db_path = init_db()\n",
        "\n",
        "if select == \"Home\":\n",
        "  st.markdown(\"### :blue[**Technologies Used :**] Python, EasyOCR, Streamlit, SQL, Pandas\")\n",
        "\n",
        "elif select == \"Upload & Modifying\":\n",
        "  img = st.file_uploader(\"Upload the Image\", type=[\"png\", \"jpg\", \"jpeg\"])\n",
        "\n",
        "  if img is not None:\n",
        "    st.image(img, width=300)\n",
        "\n",
        "    text_image, input_img = image_to_text(img)\n",
        "\n",
        "    text_dict = extracted_text(text_image)\n",
        "\n",
        "    if text_dict:\n",
        "      st.success(\"TEXT IS EXTRACTED SUCCESSFULLY\")\n",
        "\n",
        "    df = pd.DataFrame(text_dict)\n",
        "\n",
        "    # Converting Image to Bytes\n",
        "    Image_bytes = io.BytesIO()\n",
        "    input_img.save(Image_bytes, format=\"PNG\")\n",
        "\n",
        "    image_data = Image_bytes.getvalue()\n",
        "\n",
        "    # Creating Dictionary\n",
        "    data = {\"IMAGE\": [image_data]}\n",
        "\n",
        "    df_1 = pd.DataFrame(data)\n",
        "\n",
        "    concat_df = pd.concat([df, df_1], axis=1)\n",
        "\n",
        "    st.dataframe(concat_df)\n",
        "\n",
        "    button_1 = st.button(\"Save\", use_container_width=True)\n",
        "\n",
        "    if button_1:\n",
        "      datas = concat_df.values.tolist()[0]\n",
        "      insert_data(db_path, datas)\n",
        "      st.success(\"SAVED SUCCESSFULLY\")\n",
        "\n",
        "  method = st.radio(\"Select the Method\", [\"None\", \"Preview\", \"Modify\"])\n",
        "\n",
        "  if method == \"None\":\n",
        "    st.write(\"\")\n",
        "\n",
        "  if method == \"Preview\":\n",
        "    table = fetch_data(db_path)\n",
        "    table_df = pd.DataFrame(table, columns=(\"NAME\", \"DESIGNATION\", \"COMPANY_NAME\", \"CONTACT\", \"EMAIL\", \"WEBSITE\",\n",
        "                                            \"ADDRESS\", \"PINCODE\", \"IMAGE\"))\n",
        "    st.dataframe(table_df)\n",
        "\n",
        "  elif method == \"Modify\":\n",
        "    table = fetch_data(db_path)\n",
        "    table_df = pd.DataFrame(table, columns=(\"NAME\", \"DESIGNATION\", \"COMPANY_NAME\", \"CONTACT\", \"EMAIL\", \"WEBSITE\",\n",
        "                                            \"ADDRESS\", \"PINCODE\", \"IMAGE\"))\n",
        "\n",
        "    col1, col2 = st.columns(2)\n",
        "    with col1:\n",
        "\n",
        "      selected_name = st.selectbox(\"Select the name\", table_df[\"NAME\"])\n",
        "\n",
        "    df_3 = table_df[table_df[\"NAME\"] == selected_name]\n",
        "\n",
        "    df_4 = df_3.copy()\n",
        "\n",
        "    col1, col2 = st.columns(2)\n",
        "    with col1:\n",
        "      mo_name = st.text_input(\"Name\", df_3[\"NAME\"].unique()[0])\n",
        "      mo_desi = st.text_input(\"Designation\", df_3[\"DESIGNATION\"].unique()[0])\n",
        "      mo_com_name = st.text_input(\"Company_name\", df_3[\"COMPANY_NAME\"].unique()[0])\n",
        "      mo_contact = st.text_input(\"Contact\", df_3[\"CONTACT\"].unique()[0])\n",
        "      mo_email = st.text_input(\"Email\", df_3[\"EMAIL\"].unique()[0])\n",
        "\n",
        "      df_4[\"NAME\"] = mo_name\n",
        "      df_4[\"DESIGNATION\"] = mo_desi\n",
        "      df_4[\"COMPANY_NAME\"] = mo_com_name\n",
        "      df_4[\"CONTACT\"] = mo_contact\n",
        "      df_4[\"EMAIL\"] = mo_email\n",
        "\n",
        "    with col2:\n",
        "\n",
        "      mo_website = st.text_input(\"Website\", df_3[\"WEBSITE\"].unique()[0])\n",
        "      mo_addre = st.text_input(\"Address\", df_3[\"ADDRESS\"].unique()[0])\n",
        "      mo_pincode = st.text_input(\"Pincode\", df_3[\"PINCODE\"].unique()[0])\n",
        "      mo_image = st.text_input(\"Image\", df_3[\"IMAGE\"].unique()[0])\n",
        "\n",
        "      df_4[\"WEBSITE\"] = mo_website\n",
        "      df_4[\"ADDRESS\"] = mo_addre\n",
        "      df_4[\"PINCODE\"] = mo_pincode\n",
        "      df_4[\"IMAGE\"] = mo_image\n",
        "\n",
        "    st.dataframe(df_4)\n",
        "\n",
        "    col1, col2 = st.columns(2)\n",
        "    with col1:\n",
        "      button_3 = st.button(\"Modify\", use_container_width=True)\n",
        "\n",
        "    if button_3:\n",
        "      delete_data(db_path, selected_name, df_3[\"DESIGNATION\"].unique()[0])\n",
        "      datas = df_4.values.tolist()[0]\n",
        "      insert_data(db_path, datas)\n",
        "      st.success(\"MODIFIED SUCCESSFULLY\")\n",
        "\n",
        "elif select == \"Delete\":\n",
        "\n",
        "  col1, col2 = st.columns(2)\n",
        "  with col1:\n",
        "\n",
        "    table = fetch_data(db_path)\n",
        "    table_df = pd.DataFrame(table, columns=(\"NAME\", \"DESIGNATION\", \"COMPANY_NAME\", \"CONTACT\", \"EMAIL\", \"WEBSITE\",\n",
        "                                            \"ADDRESS\", \"PINCODE\", \"IMAGE\"))\n",
        "    names = table_df[\"NAME\"].unique()\n",
        "    name_select = st.selectbox(\"Select the name\", names)\n",
        "\n",
        "  with col2:\n",
        "    designations = table_df[table_df[\"NAME\"] == name_select][\"DESIGNATION\"].unique()\n",
        "    designation_select = st.selectbox(\"Select the designation\", designations)\n",
        "\n",
        "  if name_select and designation_select:\n",
        "    col1, col2, col3 = st.columns(3)\n",
        "\n",
        "    with col1:\n",
        "      st.write(f\"Selected Name : {name_select}\")\n",
        "      st.write(\"\")\n",
        "      st.write(\"\")\n",
        "      st.write(\"\")\n",
        "      st.write(f\"Selected Designation : {designation_select}\")\n",
        "\n",
        "    with col2:\n",
        "      st.write(\"\")\n",
        "      st.write(\"\")\n",
        "      st.write(\"\")\n",
        "      st.write(\"\")\n",
        "\n",
        "      remove = st.button(\"Delete\", use_container_width=True)\n",
        "\n",
        "      if remove:\n",
        "        delete_data(db_path, name_select, designation_select)\n",
        "        st.warning(\"DELETED\")\n"
      ],
      "metadata": {
        "colab": {
          "base_uri": "https://localhost:8080/"
        },
        "id": "C6uavtTrrtX7",
        "outputId": "cee181e4-f80c-4f6e-d738-4f680abaf95c"
      },
      "execution_count": null,
      "outputs": [
        {
          "output_type": "stream",
          "name": "stdout",
          "text": [
            "Overwriting app.py\n"
          ]
        }
      ]
    },
    {
      "cell_type": "code",
      "source": [
        "from pyngrok import ngrok\n"
      ],
      "metadata": {
        "id": "6iKMPwBir4sF"
      },
      "execution_count": null,
      "outputs": []
    },
    {
      "cell_type": "code",
      "source": [
        "ngrok.set_auth_token(\"Your ngrok authentication token")
      ],
      "metadata": {
        "id": "W96u4vKZr7TG"
      },
      "execution_count": null,
      "outputs": []
    },
    {
      "cell_type": "code",
      "source": [
        "!nohup streamlit run app.py --server.port 8501 &"
      ],
      "metadata": {
        "colab": {
          "base_uri": "https://localhost:8080/"
        },
        "id": "X333kkD7r-G0",
        "outputId": "43c1b77b-00b0-4896-da32-07f2ace9c385"
      },
      "execution_count": null,
      "outputs": [
        {
          "output_type": "stream",
          "name": "stdout",
          "text": [
            "nohup: appending output to 'nohup.out'\n"
          ]
        }
      ]
    },
    {
      "cell_type": "code",
      "source": [
        "try:\n",
        "    # Create a public URL for the Streamlit server\n",
        "    public_url = ngrok.connect(8501)  # Match the Streamlit port\n",
        "    print(\"Streamlit Public URL:\", public_url)\n",
        "\n",
        "    # Keep ngrok running\n",
        "    ngrok_process = ngrok.get_ngrok_process()\n",
        "    ngrok_process.proc.wait()\n",
        "\n",
        "except KeyboardInterrupt:\n",
        "    print(\"Shutting down ngrok and Streamlit.\")\n",
        "    ngrok.kill()"
      ],
      "metadata": {
        "colab": {
          "base_uri": "https://localhost:8080/"
        },
        "id": "gU6_afexsD4v",
        "outputId": "2c73e813-1c85-4732-f66d-94d09cad3280"
      },
      "execution_count": null,
      "outputs": [
        {
          "output_type": "stream",
          "name": "stdout",
          "text": [
            "Streamlit Public URL: NgrokTunnel: \"https://f9dc-34-106-231-132.ngrok-free.app\" -> \"http://localhost:8501\"\n",
            "Shutting down ngrok and Streamlit.\n"
          ]
        }
      ]
    },
    {
      "cell_type": "code",
      "source": [],
      "metadata": {
        "id": "ajCktFVksICl"
      },
      "execution_count": null,
      "outputs": []
    }
  ]
}
